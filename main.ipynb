{
 "cells": [
  {
   "cell_type": "code",
   "execution_count": null,
   "metadata": {},
   "outputs": [],
   "source": [
    "%pip install google-genai\n",
    "%pip install python-dotenv"
   ]
  },
  {
   "cell_type": "code",
   "execution_count": 8,
   "metadata": {},
   "outputs": [],
   "source": [
    "import os \n",
    "\n",
    "def extract_text_from_folder(folder_path):\n",
    "    \"\"\"\n",
    "    Extracts text from all .txt files in a folder and combines them into a single string.\n",
    "    \n",
    "    Args:\n",
    "        folder_path (str): Path to the folder containing .txt files\n",
    "        \n",
    "    Returns:\n",
    "        str: Combined text from all .txt files\n",
    "    \"\"\"\n",
    "    all_text = \"\"\n",
    "    \n",
    "    # Get all txt files from the folder\n",
    "    txt_files = [f for f in os.listdir(folder_path) if f.endswith('.txt')]\n",
    "    \n",
    "    # Sort files to ensure consistent order\n",
    "    txt_files.sort()\n",
    "    \n",
    "    # Read each file and append its content to all_text\n",
    "    for file_name in txt_files:\n",
    "        file_path = os.path.join(folder_path, file_name)\n",
    "        with open(file_path, 'r', encoding='utf-8') as file:\n",
    "            file_content = file.read()\n",
    "            all_text += file_content + \"\\n\\n\"  # Add spacing between file contents\n",
    "    \n",
    "    return all_text.strip()"
   ]
  },
  {
   "cell_type": "code",
   "execution_count": 10,
   "metadata": {},
   "outputs": [],
   "source": [
    "lecture_notes_folder = 'Course X'  \n",
    "lecture_notes_text = extract_text_from_folder(lecture_notes_folder)"
   ]
  },
  {
   "cell_type": "code",
   "execution_count": null,
   "metadata": {},
   "outputs": [
    {
     "name": "stdout",
     "output_type": "stream",
     "text": [
      "Total words in lecture notes: 4161\n"
     ]
    }
   ],
   "source": [
    "count_words = len(lecture_notes_text.split())\n",
    "print(f\"Total words in lecture notes: {count_words}\")"
   ]
  },
  {
   "cell_type": "code",
   "execution_count": 13,
   "metadata": {},
   "outputs": [],
   "source": [
    "system_prompt = \"\"\"you are a tutor and teaching assistan for hte MIT course 14.73 about the challenges of global poverty. From the class's transcript, you create challenging MCQ questions that resemble, but are perhaps even harder than, the final exam. After each question, you provide a clear and structured explanation of the relevant section from the course, then ask the next questions. The user starts by providing you the lecture notes, and you will create the questions and explanations based on that.\"\"\""
   ]
  },
  {
   "cell_type": "code",
   "execution_count": 14,
   "metadata": {},
   "outputs": [
    {
     "name": "stdout",
     "output_type": "stream",
     "text": [
      "Okay, I have reviewed the lecture transcript on credit markets for the poor. This is a fascinating topic, covering the failures of early formal lending, the dynamics of informal markets, and the rise of microfinance. Let's test your understanding of the nuances presented.\n",
      "\n",
      "Here is your first question:\n",
      "\n",
      "**Question 1:**\n",
      "\n",
      "Based on the lecture discussing credit markets for the poor prior to the widespread success of microfinance innovations, which statement *best* synthesizes the core challenges and observed characteristics?\n",
      "\n",
      "A) Formal lending failed primarily due to the high cost of funds for banks, while informal lending thrived because moneylenders had access to cheaper capital through social networks.\n",
      "B) The primary barrier to lending was the inherent lack of productive investment opportunities among the poor, leading to high default rates in both formal and informal sectors.\n",
      "C) High default rates plagued subsidized government loans due to factors like politicization and weak enforcement, yet informal markets, despite charging high and variable interest rates, exhibited low defaults, suggesting informational asymmetries and screening/enforcement costs were key differentiating factors.\n",
      "D) Widespread competition among numerous informal moneylenders, as highlighted in Alim's study of a Pakistani village, effectively drove down interest rates and eliminated default risk in the informal sector, contrasting sharply with the formal sector's failures.\n",
      "\n",
      "---\n",
      "\n",
      "**Explanation:**\n",
      "\n",
      "Let's break down why option (C) is the most accurate synthesis based on the provided lecture notes:\n",
      "\n",
      "1.  **Failure of Formal/Subsidized Lending:** The lecture explicitly mentions the failure of government credit programs in the 1970s/80s.\n",
      "    *   **High Default:** The Indian example showed default rates of 42% on subsidized loans.\n",
      "    *   **Politicization/Inefficiency:** These programs often functioned like \"free transfers,\" became \"political objects,\" and credit increased in election years without boosting productivity (Shawn Cole's findings). This points to weak enforcement and motives other than pure lending.\n",
      "    *   **Contrast with (C):** Option (C) correctly identifies high defaults and contributing factors like politicization and implicitly weak enforcement in the formal/subsidized sector.\n",
      "\n",
      "2.  **Characteristics of Informal Lending:** The lecture contrasts the formal failure with the existing informal market.\n",
      "    *   **Repayment:** Moneylenders and ROSCAs \"get reimbursed.\" Alim's study in Pakistan found very low default rates (median 1.5-2%, max 10%) despite high interest rates.\n",
      "    *   **High & Variable Interest Rates:** Data from 13 countries showed rates between 11% and 93%. Alim's study found an average of 78.5% with huge variability (standard deviation 38%).\n",
      "    *   **Contrast with (C):** Option (C) accurately captures the high/variable rates and low defaults observed in the informal sector.\n",
      "\n",
      "3.  **Underlying Reasons for Differences:** The lecture identifies key reasons why informal lenders succeeded where formal ones failed.\n",
      "    *   **Information Asymmetries (Moral Hazard/Adverse Selection):** Banks struggle to observe borrower actions (moral hazard) or know borrower types (adverse selection). Informal lenders often have better local knowledge or networks (Tiruppur example).\n",
      "    *   **Screening/Monitoring/Enforcement Costs:** Lending to the poor involves high fixed costs relative to loan size. Informal lenders invest heavily in screening and monitoring (Alim's study). They also have enforcement mechanisms (social pressure, threats) unavailable to formal banks.\n",
      "    *   **Contrast with (C):** Option (C) correctly points to informational asymmetries and screening/enforcement costs as key differentiating factors explaining the divergent outcomes between formal and informal lending.\n",
      "\n",
      "**Why other options are incorrect:**\n",
      "\n",
      "*   **A)** Incorrectly states banks had high cost of funds (lecture mentions low deposit rates, creating a large gap) and that moneylenders had cheaper capital (Alim's study shows their cost of funds was high at 32%, much higher than the bank rate).\n",
      "*   **B)** Incorrectly claims a lack of productive opportunities (lecture suggests the opposite, given people borrow at high rates and repay informal loans for business). It also incorrectly states high defaults occurred in *both* sectors (informal defaults were low).\n",
      "*   **D)** Misinterprets Alim's study. While there were multiple moneylenders (competition), it was *imperfect*, leading to *high and variable* rates, not low ones. Low default was achieved through costly screening/monitoring, not eliminated by competition itself. The lecture notes that ex-post, lenders gain monopoly power due to switching costs.\n",
      "\n",
      "Therefore, option (C) provides the best synthesis of the situation described in the lecture before microfinance became widespread.\n",
      "\n",
      "---\n",
      "\n",
      "Ready for your next question?"
     ]
    }
   ],
   "source": [
    "# Add at the beginning of your notebook\n",
    "import base64\n",
    "import os\n",
    "from dotenv import load_dotenv\n",
    "from google import genai\n",
    "from google.genai import types\n",
    "\n",
    "# Load environment variables from .env\n",
    "load_dotenv()\n",
    "\n",
    "def generate():\n",
    "    client = genai.Client(\n",
    "        api_key=os.environ.get(\"GEMINI_API_KEY\"),\n",
    "    )\n",
    "\n",
    "    model = \"gemini-2.5-pro-exp-03-25\"\n",
    "    contents = [\n",
    "        types.Content(\n",
    "            role=\"user\",\n",
    "            parts=[\n",
    "                types.Part.from_text(text=lecture_notes_text),\n",
    "            ],\n",
    "        ),\n",
    "    ]\n",
    "    generate_content_config = types.GenerateContentConfig(\n",
    "        response_mime_type=\"text/plain\",\n",
    "        system_instruction=[\n",
    "            types.Part.from_text(text=system_prompt),\n",
    "        ],\n",
    "    )\n",
    "\n",
    "    for chunk in client.models.generate_content_stream(\n",
    "        model=model,\n",
    "        contents=contents,\n",
    "        config=generate_content_config,\n",
    "    ):\n",
    "        print(chunk.text, end=\"\")\n",
    "\n",
    "if __name__ == \"__main__\":\n",
    "    generate()\n"
   ]
  }
 ],
 "metadata": {
  "kernelspec": {
   "display_name": "Python 3",
   "language": "python",
   "name": "python3"
  },
  "language_info": {
   "codemirror_mode": {
    "name": "ipython",
    "version": 3
   },
   "file_extension": ".py",
   "mimetype": "text/x-python",
   "name": "python",
   "nbconvert_exporter": "python",
   "pygments_lexer": "ipython3",
   "version": "3.9.21"
  }
 },
 "nbformat": 4,
 "nbformat_minor": 2
}
